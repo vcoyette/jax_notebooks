{
 "cells": [
  {
   "cell_type": "markdown",
   "id": "reserved-cherry",
   "metadata": {},
   "source": [
    "# DQN implementation in JAX\n",
    "\n",
    "This notebook walks through an implementation of [DQN](https://storage.googleapis.com/deepmind-media/dqn/DQNNaturePaper.pdf) in [JAX](https://jax.readthedocs.io/en/latest/).\n",
    "There exists a complete [ecosystem](https://deepmind.com/blog/article/using-jax-to-accelerate-our-research) of libraries based on JAX to ease the developpement of deep and Reinforcement Learning algorithms, but because this notebook aims at demonstrating its core concepts, the implementation will only rely on \"vanilla\" JAX.\n",
    "\n",
    "## JAX\n",
    "From the official [quickstart](https://jax.readthedocs.io/en/latest/notebooks/quickstart.html) documentation:\n",
    "> JAX is NumPy on the CPU, GPU, and TPU, with great automatic differentiation for high-performance machine learning research.\n",
    "\n",
    "JAX is based on [XLA](https://www.tensorflow.org/xla) to provide a hardware accelerated backend to linear algebra operations, encapsulated in a NumPy-compatible API. To keep it simple, any numpy code can be replaced by its equivalent jax.numpy to be ported on GPU/TPU and run faster. \n",
    "Moreover, all these operations, as well as some native Python code, can be automatically differentiated, making JAX a good candidate to perform any kind of gradient based optimization.\n",
    "\n",
    "JAX can be defined it as \"an extensible system for composable function transformations\".\n",
    "The most useful transformations include:\n",
    "* `grad`: Automatic differentiation transformation, `grad(func)` returns a function which is the gradient of `func`.\n",
    "* `jit`: \"Just in Time\" compilation. Remember that each JAX array operation rely on a hardware accelerated backend ? Well, your code will most probably contains sequences of this operation, which would result in the backend being called sequentially to execute them. By compiling a sequence of operations, the backend could be called only once for the whole sequence, resulting in faster execution. \n",
    "* `vmap`: Automatic vectorisation transformation, can be used to easily apply operation to full batch instead of single elements.\n",
    "\n",
    "All these transformations can be composed arbitrarily, you can take the gradient of a compiled vectorized funtcion for example: `grad(jit(vmap(f)))`. \n",
    "This transformation system may seem abstract for now, but the notebook contains example use case for each of them."
   ]
  },
  {
   "cell_type": "code",
   "execution_count": 1,
   "id": "surprising-colombia",
   "metadata": {},
   "outputs": [
    {
     "name": "stdout",
     "output_type": "stream",
     "text": [
      "Requirement already satisfied: more_itertools in /home/vcoyette/miniconda3/envs/jax_playground/lib/python3.8/site-packages (8.7.0)\n"
     ]
    }
   ],
   "source": [
    "!pip install more_itertools"
   ]
  },
  {
   "cell_type": "code",
   "execution_count": 2,
   "id": "subsequent-rolling",
   "metadata": {
    "lines_to_next_cell": 2
   },
   "outputs": [],
   "source": [
    "%matplotlib inline\n",
    "\n",
    "from dataclasses import dataclass, field\n",
    "from typing import NamedTuple, List, Tuple, Sequence, Callable\n",
    "from functools import partial\n",
    "\n",
    "import gym\n",
    "from gym import logger\n",
    "import numpy as np\n",
    "import random as orandom\n",
    "import jax.numpy as jnp\n",
    "from jax import random, vmap, jit, grad\n",
    "import jax\n",
    "import jax.nn as nn\n",
    "import matplotlib.pyplot as plt\n",
    "import jax.experimental.optimizers as optimizers\n",
    "from numpy.typing import ArrayLike\n",
    "import more_itertools\n",
    "\n",
    "SEED = 0\n",
    "orandom.seed(SEED)\n",
    "np.random.seed(SEED)"
   ]
  },
  {
   "cell_type": "markdown",
   "id": "altered-feature",
   "metadata": {},
   "source": [
    "## Environment\n",
    "The DQN agent will be train on the cartpole environment. See [here](https://gym.openai.com/envs/CartPole-v1/) for an explanation if you are unfamiliar with this environment.\n",
    "\n",
    "![Cartpole](media/cartpole.jpg)"
   ]
  },
  {
   "cell_type": "code",
   "execution_count": 3,
   "id": "square-sterling",
   "metadata": {
    "lines_to_next_cell": 1
   },
   "outputs": [],
   "source": [
    "cartpole = gym.make(\"CartPole-v1\")"
   ]
  },
  {
   "cell_type": "markdown",
   "id": "adverse-capital",
   "metadata": {},
   "source": [
    "## Experience Replay\n",
    "Let's start by defining an experience replay buffer to store transitions. Transitions will be stored in a simple list, and will be converted to jax arrays only when needed for training, to avoid storing all the transitions on the GPU."
   ]
  },
  {
   "cell_type": "code",
   "execution_count": 4,
   "id": "mounted-faith",
   "metadata": {
    "lines_to_next_cell": 1
   },
   "outputs": [],
   "source": [
    "class Transition(NamedTuple):\n",
    "    state: ArrayLike\n",
    "    action: int\n",
    "    reward: float\n",
    "    next_state: ArrayLike\n",
    "    done: bool\n",
    "\n",
    "        \n",
    "class ReplayBuffer:\n",
    "    \"\"\"Experience replay buffer.\"\"\"\n",
    "    def __init__(self, capacity: int):\n",
    "        self.capacity: int = capacity\n",
    "        self.data: List[Transition] = []\n",
    "        self.index = 0 # index of the next element to insert in self.data\n",
    "        \n",
    "    def store(self, transition: Transition) -> None:\n",
    "        \"\"\"Store a transition.\"\"\"\n",
    "        if len(self.data) < self.capacity:\n",
    "            self.data.append(transition)\n",
    "        else:\n",
    "            self.data[self.index] = transition\n",
    "        self.index = (self.index + 1) % self.capacity\n",
    "    \n",
    "    def sample(self, batch_size: int) -> List[Transition]:\n",
    "        \"\"\"Sample a batch of transitions.\"\"\"\n",
    "        return orandom.sample(self.data, batch_size)\n",
    "\n",
    "    def __len__(self):\n",
    "        return len(self.data) "
   ]
  },
  {
   "cell_type": "markdown",
   "id": "crude-treaty",
   "metadata": {},
   "source": [
    "## Model\n",
    "\n",
    "Jax transformations (`jit`, `grad` and`vmap`) are designed to be used on functions that are functionnally pure. \n",
    "This means that all the input data of a function should be given as parameters, and all outputs should be returned by the function.\n",
    "Additionally, any call to the function with the same parameters should return the same output.\n",
    "\n",
    "Knowing this, it is not possible to define models similar to Tensorflow/Pytorch if we are to use compilation and differenciation. \n",
    "In those other frameworks, models are typically stateful objects, holding the weights as attributes. \n",
    "This is incompatible with the pure function definition, because weights are not given as parameters to function and are modified without being returned as outputs.\n",
    "What is typically done in JAX is to pass weights as a parameter to a forward pass function.\n",
    "\n",
    "Let's define a few components which would help defining a fully connected neural network.\n",
    "\n",
    "Let's first define the structure of the NN. \n",
    "A layer will be a named tuple holding the weights and the biases, and a network will be a tuple of layers.\n",
    "Note the use of immutable data structure: network parameters will not be modified in place, but a new set of parameters will be created after each optimization step, to stick to the pure function philosophy."
   ]
  },
  {
   "cell_type": "code",
   "execution_count": 5,
   "id": "meaningful-citation",
   "metadata": {},
   "outputs": [],
   "source": [
    "class FCLayerParams(NamedTuple):\n",
    "    \"\"\"Holds parameters of a fully connected layer.\"\"\"\n",
    "    weights: jnp.ndarray\n",
    "    biases: jnp.ndarray\n",
    "\n",
    "FCNetworkParams = Tuple[FCLayerParams]  # A network is a sequence of layers"
   ]
  },
  {
   "cell_type": "markdown",
   "id": "broadband-roommate",
   "metadata": {},
   "source": [
    "Now let's define functions to initialize a network.\n",
    "\n",
    "Note the use of `key` parameters. JAX deals with randomness differently from NumPy, to be more reproductible, parallelizable and vectorisable. More details can be found [here](https://jax.readthedocs.io/en/latest/jax-101/05-random-numbers.html?highlight=random#random-numbers-in-jax)."
   ]
  },
  {
   "cell_type": "code",
   "execution_count": 6,
   "id": "rubber-charge",
   "metadata": {},
   "outputs": [],
   "source": [
    "def init_layer_params(\n",
    "    input_dim: int, output_dim: int, key: jnp.ndarray\n",
    ") -> FCLayerParams:\n",
    "    \"\"\"Kaiming He initialisation of weights for a fully connected layer.\"\"\"\n",
    "    scale = np.sqrt(2. / input_dim) \n",
    "    weights = scale * random.normal(key, (output_dim, input_dim))\n",
    "    biases = jnp.zeros(output_dim)\n",
    "    return FCLayerParams(weights, biases)\n",
    "\n",
    "\n",
    "def init_network_params(sizes: Sequence[int], key: jnp.ndarray) -> FCNetworkParams:\n",
    "    \"\"\"Initialize a fully connected network from layers sizes.\"\"\"\n",
    "    keys = random.split(key, len(sizes))\n",
    "    return tuple(\n",
    "        init_layer_params(m, n, k) for m, n, k in zip(sizes[:-1], sizes[1:], keys)\n",
    "    )"
   ]
  },
  {
   "cell_type": "markdown",
   "id": "approved-exhibition",
   "metadata": {},
   "source": [
    "Now that we defined the structure and the initialization of a network, all is left to create is a forward function to predict the output of the network from the input.\n",
    "\n",
    "Because this function will be used a lot of time, let's compile it with the `jit` decorator for faster execution."
   ]
  },
  {
   "cell_type": "code",
   "execution_count": 7,
   "id": "challenging-singer",
   "metadata": {},
   "outputs": [],
   "source": [
    "@jit\n",
    "def forward(params: FCNetworkParams, inputs: jnp.ndarray) -> jnp.ndarray:\n",
    "    \"\"\"Get the output of a fully connected network.\"\"\"\n",
    "    for layer in params:\n",
    "        outputs = jnp.dot(layer.weights, inputs) + layer.biases\n",
    "        inputs = nn.relu(outputs)\n",
    "    return outputs"
   ]
  },
  {
   "cell_type": "markdown",
   "id": "recent-survivor",
   "metadata": {},
   "source": [
    "## Hyperparameters\n",
    "\n",
    "Let's now define some hypereparameters for the training of our agent."
   ]
  },
  {
   "cell_type": "code",
   "execution_count": 8,
   "id": "partial-communications",
   "metadata": {
    "lines_to_next_cell": 2
   },
   "outputs": [],
   "source": [
    "# Model\n",
    "state_dim = cartpole.observation_space.shape[0]\n",
    "action_size = cartpole.action_space.n\n",
    "LAYER_SIZES = [state_dim, 32, 32, action_size]\n",
    "\n",
    "# Optimizer\n",
    "LEARNING_RATE = 0.001\n",
    "BATCH_SIZE =  64 \n",
    "\n",
    "# RLinput\n",
    "GAMMA = 0.95\n",
    "TAU = 0.01\n",
    "BUFFER_SIZE = 1000000\n",
    "EPSILON_MIN = 0.01\n",
    "EPSILON_MAX = 1.0\n",
    "EPSILON_DECAY = 0.995"
   ]
  },
  {
   "cell_type": "markdown",
   "id": "narrative-summary",
   "metadata": {},
   "source": [
    "## Usefull functions"
   ]
  },
  {
   "cell_type": "code",
   "execution_count": 9,
   "id": "liquid-ambassador",
   "metadata": {
    "lines_to_next_cell": 1
   },
   "outputs": [],
   "source": [
    "Batch = Tuple[jnp.ndarray, jnp.ndarray, jnp.ndarray, jnp.ndarray, jnp.ndarray]\n",
    "\n",
    "def sample_minibatch(batch_size: int, replay_buffer: ReplayBuffer) -> Batch:\n",
    "    \"\"\"Sample transitions from replay buffer and convert it to a training batch.\"\"\"\n",
    "    transitions = replay_buffer.sample(batch_size)\n",
    "    s, a, r, s_, d = zip(*transitions)\n",
    "    return (\n",
    "        jnp.vstack(s),\n",
    "        jnp.asarray(a, dtype=jnp.int8),\n",
    "        jnp.asarray(r, dtype=jnp.float32),\n",
    "        jnp.vstack(s_),\n",
    "        jnp.asarray(d, dtype=jnp.float32),\n",
    "    )\n",
    "\n",
    "\n",
    "@jit\n",
    "def greedy_action(params: FCNetworkParams, state: jnp.ndarray) -> jnp.ndarray:\n",
    "    \"\"\"Compute greedy action w.r.t to network parameters.\"\"\"\n",
    "    Q = forward(params, state)\n",
    "    return jnp.argmax(Q)\n",
    "\n",
    "\n",
    "def epsilon_greedy(env, epsilon, params, state):\n",
    "    \"\"\"Compute an epsilon greey action\"\"\"\n",
    "    if np.random.rand() < epsilon:\n",
    "        action = env.action_space.sample()\n",
    "    else:\n",
    "        action = int(greedy_action(params, state))\n",
    "    return action\n",
    "\n",
    "def td_error(\n",
    "    params: FCNetworkParams,\n",
    "    target_params: FCNetworkParams,\n",
    "    s: jnp.ndarray,\n",
    "    a: int,\n",
    "    r: float,\n",
    "    s_: jnp.ndarray,\n",
    "    d: float,\n",
    ") -> float:\n",
    "    \"\"\"Compute the TD error for one sampled transition.\"\"\"\n",
    "    target_Q = jnp.max(forward(target_params, s_))\n",
    "    target = r + GAMMA * (1 - d) * jax.lax.stop_gradient(target_Q)\n",
    "    Q = forward(params, s)[a]\n",
    "    return target - Q\n",
    "\n",
    "\n",
    "def loss(params: FCNetworkParams, target_params: FCNetworkParams, batch: Batch):\n",
    "    \"\"\"Compute the loss on a batch.\"\"\"\n",
    "    # Vectorized version of the td_error function\n",
    "    batched_td_errors = vmap(partial(td_error, params, target_params), in_axes=[0] * 5)\n",
    "    # Apply this function to batch\n",
    "    td_errors_values = batched_td_errors(*batch)\n",
    "    return jnp.mean(jnp.square(td_errors_values))\n",
    "\n",
    "grad_loss = jit(grad(loss, argnums=0))\n",
    "\n",
    "def actor_learning_step(\n",
    "    opt_update: Callable,\n",
    "    opt_state: optimizers.OptimizerState,\n",
    "    params: FCNetworkParams,\n",
    "    target_params: FCNetworkParams,\n",
    "    step: int,\n",
    "    batch: Batch,\n",
    ") -> optimizers.OptimizerState:\n",
    "    \"\"\"Run a step of learning for the actor.\"\"\"\n",
    "    grads = grad_loss(params, target_params, batch)\n",
    "    grads = optimizers.clip_grads(grads, 1)\n",
    "    return opt_update(step, grads, opt_state)\n",
    "\n",
    "\n",
    "# TODO tree_multimap explanation and static param tau\n",
    "@jit\n",
    "def soft_update(\n",
    "    params: FCNetworkParams, target_params: FCNetworkParams, tau: float\n",
    ") -> FCNetworkParams:\n",
    "    \"\"\"Update the target parameters towards actor's with momentum tau.\"\"\"\n",
    "    return jax.tree_multimap(\n",
    "        lambda p, target_p: tau * p + (1 - tau) * target_p,\n",
    "        params,\n",
    "        target_params,\n",
    "    )"
   ]
  },
  {
   "cell_type": "code",
   "execution_count": 10,
   "id": "regional-portal",
   "metadata": {},
   "outputs": [],
   "source": [
    "def train(env: gym.Env, max_episode: int):\n",
    "    \"\"\"Train a DQN neural network on env for max_episode.\"\"\"\n",
    "    # Initialize parameters\n",
    "    params = init_network_params(LAYER_SIZES, random.PRNGKey(SEED))\n",
    "    target_params = params\n",
    "\n",
    "    # Initialize optimizer\n",
    "    opt_init, opt_update, get_params = optimizers.adam(LEARNING_RATE)\n",
    "    opt_state = opt_init(params)\n",
    "\n",
    "    memory = ReplayBuffer(BUFFER_SIZE)\n",
    "\n",
    "    # jit compile the actor learning step\n",
    "    _actor_step = jit(partial(actor_learning_step, opt_update))\n",
    "    _sample_minibatch = partial(sample_minibatch, BATCH_SIZE)\n",
    "\n",
    "    # Initialize metrics variables\n",
    "    scores = [0] * max_episode\n",
    "    state = env.reset()\n",
    "    done = False\n",
    "    epsilon = EPSILON_MAX\n",
    "    opt_step = 0\n",
    "\n",
    "    for episode in range(max_episode):\n",
    "        while not done:\n",
    "            action = epsilon_greedy(env, epsilon, params, state)\n",
    "\n",
    "            # Environment step\n",
    "            next_state, reward, done, _ = env.step(action)\n",
    "            memory.store(Transition(state, action, reward, next_state, done))\n",
    "            scores[episode] += reward\n",
    "\n",
    "            # Training step\n",
    "            if len(memory) > BATCH_SIZE:\n",
    "                opt_step += 1\n",
    "                batch = _sample_minibatch(memory)\n",
    "                opt_state = _actor_step(opt_state, params, target_params, opt_step, batch)\n",
    "                params = get_params(opt_state)\n",
    "\n",
    "                target_params = soft_update(params, target_params, TAU)\n",
    "                epsilon = max(epsilon * EPSILON_DECAY, EPSILON_MIN)\n",
    "\n",
    "            state = next_state\n",
    "\n",
    "        if episode % 10 == 0:\n",
    "            print(\n",
    "                f\"Episode {episode}\",\n",
    "                f\", epsilon {epsilon:.2f}\",\n",
    "                f\", episode return {scores[episode]:.1f}\",\n",
    "                sep=\"\",\n",
    "            )\n",
    "        state = env.reset()\n",
    "        done = False\n",
    "\n",
    "    return scores, params"
   ]
  },
  {
   "cell_type": "code",
   "execution_count": 11,
   "id": "physical-shannon",
   "metadata": {},
   "outputs": [
    {
     "name": "stderr",
     "output_type": "stream",
     "text": [
      "WARNING:absl:No GPU/TPU found, falling back to CPU. (Set TF_CPP_MIN_LOG_LEVEL=0 and rerun for more info.)\n"
     ]
    },
    {
     "name": "stdout",
     "output_type": "stream",
     "text": [
      "Episode 0, epsilon 1.00, episode return 13.0\n",
      "Episode 10, epsilon 0.45, episode return 15.0\n",
      "Episode 20, epsilon 0.26, episode return 13.0\n",
      "Episode 30, epsilon 0.16, episode return 13.0\n",
      "Episode 40, epsilon 0.09, episode return 14.0\n",
      "Episode 50, epsilon 0.06, episode return 10.0\n",
      "Episode 60, epsilon 0.01, episode return 76.0\n",
      "Episode 70, epsilon 0.01, episode return 141.0\n",
      "Episode 80, epsilon 0.01, episode return 238.0\n",
      "Episode 90, epsilon 0.01, episode return 229.0\n",
      "Episode 100, epsilon 0.01, episode return 179.0\n",
      "Episode 110, epsilon 0.01, episode return 228.0\n"
     ]
    }
   ],
   "source": [
    "scores, params = train(cartpole, 120)"
   ]
  },
  {
   "cell_type": "code",
   "execution_count": 12,
   "id": "incorrect-chicago",
   "metadata": {
    "lines_to_next_cell": 1
   },
   "outputs": [
    {
     "data": {
      "image/png": "[encoded data removed]",
      "text/plain": [
       "<Figure size 432x288 with 1 Axes>"
      ]
     },
     "metadata": {
      "needs_background": "light"
     },
     "output_type": "display_data"
    }
   ],
   "source": [
    "plt.plot(scores)\n",
    "plt.show()"
   ]
  },
  {
   "cell_type": "code",
   "execution_count": 13,
   "id": "incomplete-subscription",
   "metadata": {},
   "outputs": [
    {
     "data": {
      "text/plain": [
       "157.0"
      ]
     },
     "execution_count": 13,
     "metadata": {},
     "output_type": "execute_result"
    }
   ],
   "source": [
    "def rollout(params: FCNetworkParams, env: gym.Env, render:bool = False):\n",
    "    s = env.reset()\n",
    "    d = False\n",
    "    score = 0\n",
    "    if render:\n",
    "        env.render()\n",
    "    while not d:\n",
    "        s, r, d, _ = env.step(int(greedy_action(params, s)))\n",
    "        score += r\n",
    "        if render:\n",
    "            env.render()\n",
    "    return score\n",
    "\n",
    "rollout(params, cartpole, render=True)"
   ]
  },
  {
   "cell_type": "code",
   "execution_count": 14,
   "id": "charged-proposition",
   "metadata": {},
   "outputs": [
    {
     "data": {
      "text/plain": [
       "171.74"
      ]
     },
     "execution_count": 14,
     "metadata": {},
     "output_type": "execute_result"
    }
   ],
   "source": [
    "def evaluate(params: FCNetworkParams, env: gym.Env, n_episodes:int = 100):\n",
    "    scores = []\n",
    "    for _ in range(100):\n",
    "        scores.append(rollout(params, cartpole))\n",
    "    return np.mean(scores)\n",
    "\n",
    "evaluate(params, cartpole)"
   ]
  },
  {
   "cell_type": "code",
   "execution_count": null,
   "id": "dirty-homework",
   "metadata": {},
   "outputs": [],
   "source": []
  }
 ],
 "metadata": {
  "jupytext": {
   "cell_metadata_filter": "-all",
   "main_language": "python",
   "notebook_metadata_filter": "-all"
  },
  "kernelspec": {
   "display_name": "Python 3",
   "language": "python",
   "name": "python3"
  },
  "language_info": {
   "codemirror_mode": {
    "name": "ipython",
    "version": 3
   },
   "file_extension": ".py",
   "mimetype": "text/x-python",
   "name": "python",
   "nbconvert_exporter": "python",
   "pygments_lexer": "ipython3",
   "version": "3.8.8"
  }
 },
 "nbformat": 4,
 "nbformat_minor": 5
}
